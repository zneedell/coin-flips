{
 "cells": [
  {
   "cell_type": "code",
   "execution_count": 1,
   "id": "f33320d9",
   "metadata": {},
   "outputs": [],
   "source": [
    "from collections import deque\n",
    "import random\n",
    "import matplotlib.pyplot as plt\n",
    "import numpy as np\n",
    "\n",
    "\n",
    "def runTrial(pattern: deque, numberOfTrials):\n",
    "    current = deque([], maxlen=len(pattern))\n",
    "    numberOfAttempts = []\n",
    "    numberOfFlips = 0\n",
    "    while len(numberOfAttempts) < numberOfTrials:\n",
    "        numberOfFlips += 1\n",
    "        flipResult = random.choice([True, False])\n",
    "        current.append(flipResult)\n",
    "        if current == pattern:\n",
    "            numberOfAttempts.append(numberOfFlips)\n",
    "            current.clear()\n",
    "            numberOfFlips = 0\n",
    "    return numberOfAttempts\n"
   ]
  },
  {
   "cell_type": "code",
   "execution_count": 2,
   "id": "cbf69af9",
   "metadata": {},
   "outputs": [
    {
     "name": "stdout",
     "output_type": "stream",
     "text": [
      "Mean number of flips required 61.8061\n"
     ]
    },
    {
     "data": {
      "image/png": "[encoded data removed]",
      "text/plain": [
       "<Figure size 432x288 with 1 Axes>"
      ]
     },
     "metadata": {
      "needs_background": "light"
     },
     "output_type": "display_data"
    }
   ],
   "source": [
    "\n",
    "numberOfAttempts = runTrial(deque([True, True, True, True, True]), 10000)\n",
    "print(\"Mean number of flips required\", np.array(numberOfAttempts).mean())\n",
    "_ = plt.hist(np.array(numberOfAttempts), bins=50)\n",
    "_ = plt.gca().set_xlabel(\"Number of flips required to match pattern\")"
   ]
  },
  {
   "cell_type": "code",
   "execution_count": null,
   "id": "5d62537d",
   "metadata": {},
   "outputs": [],
   "source": []
  }
 ],
 "metadata": {
  "kernelspec": {
   "display_name": "Python 3 (ipykernel)",
   "language": "python",
   "name": "python3"
  },
  "language_info": {
   "codemirror_mode": {
    "name": "ipython",
    "version": 3
   },
   "file_extension": ".py",
   "mimetype": "text/x-python",
   "name": "python",
   "nbconvert_exporter": "python",
   "pygments_lexer": "ipython3",
   "version": "3.10.2"
  }
 },
 "nbformat": 4,
 "nbformat_minor": 5
}
